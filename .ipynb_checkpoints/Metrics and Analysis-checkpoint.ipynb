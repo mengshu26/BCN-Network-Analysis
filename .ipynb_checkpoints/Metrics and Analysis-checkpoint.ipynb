{
 "cells": [
  {
   "cell_type": "code",
   "execution_count": null,
   "metadata": {},
   "outputs": [],
   "source": [
    "\"\"\" in the end, we have: \n",
    "~53k venues\n",
    "~58k foursquare users \n",
    "~27k of those users have twitter accounts\n",
    "~22k of the users with twitter accounts have public profiles\n",
    "\n",
    "only the 27k users with twitters profiles are included in the graph and in the analysis, \n",
    "the private profile users will simply have no social neighborhood \n",
    "\n",
    "the paper deleted venues with only 1 user check in (something we can consider as well)\"\"\""
   ]
  },
  {
   "cell_type": "code",
   "execution_count": 1,
   "metadata": {},
   "outputs": [],
   "source": [
    "from pymongo import MongoClient\n",
    "import networkx as nx\n",
    "import pandas as pd\n",
    "import matplotlib as plt"
   ]
  },
  {
   "cell_type": "code",
   "execution_count": 2,
   "metadata": {},
   "outputs": [],
   "source": [
    "client = MongoClient() # this stays the same and is the client \n",
    "db = client.gentrification #this is the database \n",
    "network_collection = db.users #this is a table in the database aka collection "
   ]
  },
  {
   "cell_type": "code",
   "execution_count": 3,
   "metadata": {},
   "outputs": [],
   "source": [
    "# load the time of visits for each visitor to a venue \n",
    "time=pd.read_csv(\"venue_visitors_withtime.csv\", index_col=False)\n",
    "time.columns = [\"venue\", \"user\", \"time\"]\n",
    "user_details = pd.read_csv(\"userdetails.csv\", index_col=False, header=None)\n",
    "user_details.columns = ['user', 'twitter']\n",
    "user_twitter_time=time.merge(user_details, on =\"user\", how = \"left\")"
   ]
  },
  {
   "cell_type": "code",
   "execution_count": 4,
   "metadata": {},
   "outputs": [],
   "source": [
    "# user takes several photos in one visit and we take the first one \n",
    "user_twitter_time=user_twitter_time.sort_values(\"time\").groupby([\"venue\", \"user\"]).first().reset_index() "
   ]
  },
  {
   "cell_type": "markdown",
   "metadata": {},
   "source": [
    "## adding nodes and edges for users"
   ]
  },
  {
   "cell_type": "code",
   "execution_count": 5,
   "metadata": {},
   "outputs": [],
   "source": [
    "#initiating the graph \n",
    "G = nx.Graph()"
   ]
  },
  {
   "cell_type": "code",
   "execution_count": 15,
   "metadata": {},
   "outputs": [],
   "source": [
    "\"\"\"for every document in the cursor, add user twitter handle to the network as a node \n",
    "and all of its friends as nodes. then add an edge between the user and its friends \"\"\"\n",
    "users_list = []\n",
    "friends_list  = [] \n",
    "cursor = network_collection.find({}) #all records \n",
    "for document in cursor:\n",
    "    #adding users to users list \n",
    "    user= \"user: \" + document['user']['twitterHandle']\n",
    "    users_list.append(user)\n",
    "    #adding friends to users list\n",
    "    friends=[\"user: \" + n for n in document['friends']]\n",
    "    friends_list.extend(friends)\n",
    "    #add nodes of the user and all of its friends \n",
    "    G.add_node(user)\n",
    "    G.add_nodes_from(friends)\n",
    "    #add edges between the user and its friends \n",
    "    edges=[[user,f] for f in friends]\n",
    "    G.add_edges_from(edges)\n",
    "     "
   ]
  },
  {
   "cell_type": "markdown",
   "metadata": {},
   "source": [
    "## adding nodes and edges for venues"
   ]
  },
  {
   "cell_type": "code",
   "execution_count": null,
   "metadata": {
    "scrolled": true
   },
   "outputs": [],
   "source": [
    "\"\"\"this is the problematic function\"\"\"\n",
    "\n",
    "import itertools\n",
    "\n",
    "cursor = network_collection.find({})\n",
    "for document in cursor: \n",
    "    user= \"user: \" + document['user']['twitterHandle'] \n",
    "    u= user[6:]\n",
    "    venues = [\"venue: \" + n for n in document['venues']]\n",
    "    for v in venues:\n",
    "        venue=v[7:]\n",
    "        #find the time of users visit to venue \n",
    "        t=(user_twitter_time['time'][(user_twitter_time['twitter']==u) & (user_twitter_time['venue']==venue)].values)[0]\n",
    "        #add the edge between venue and user with time data\n",
    "        G.add_edge(user, v, time = t)\n",
    "        \n",
    "    #add edges between venues if the user visited more than 1 venue \n",
    "    if len(venues) > 1: \n",
    "        for subset in itertools.combinations(venues, 2):\n",
    "            venue1=subset[0][7:]\n",
    "            venue2=subset[1][7:]\n",
    "            #find the venue that is the latest visit from user \n",
    "            t1=(user_twitter_time['time'][(user_twitter_time['twitter']==u) & (user_twitter_time['venue']==venue1)].values)[0]\n",
    "            t2=(user_twitter_time['time'][(user_twitter_time['twitter']==u) & (user_twitter_time['venue']==venue2)].values)[0]\n",
    "            #if this edge already exists in the graph, then add the new latest time as a new weight of the edge, else simply add the edge with time\n",
    "            if G.has_edge(subset[0], subset[1]) is True:\n",
    "                G.get_edge_data(subset[0], subset[1])['time'].append(max(t1,t2))\n",
    "            else:\n",
    "                G.add_edge(subset[0], subset[1], time = [max(t1,t2)])\n",
    "            \n",
    "       \n"
   ]
  },
  {
   "cell_type": "markdown",
   "metadata": {},
   "source": [
    "## separating the two layers "
   ]
  },
  {
   "cell_type": "code",
   "execution_count": null,
   "metadata": {},
   "outputs": [],
   "source": [
    "#define lists of venue nodes and user nodes \n",
    "venue_nodes = [n for n in G.nodes() if \"venue: \" in x]\n",
    "user_nodes = [n for n in G.nodes() if \"user: \" in x]"
   ]
  },
  {
   "cell_type": "markdown",
   "metadata": {},
   "source": [
    "## define general functions "
   ]
  },
  {
   "cell_type": "code",
   "execution_count": null,
   "metadata": {},
   "outputs": [],
   "source": [
    "def get_degrees(graph, node, hood):\n",
    "    neighbors=graph.neighbors(node)\n",
    "    if hood == \"social\":\n",
    "        degrees=len([x for x in neighbors if \"user: \" in x])\n",
    "    if hood == \"place\":\n",
    "        degrees=len([x for x in neighbors if \"venue: \" in x])\n",
    "    if hood == \"all\":\n",
    "        degrees=len([x for x in neighbors])\n",
    "    return degrees    "
   ]
  },
  {
   "cell_type": "code",
   "execution_count": null,
   "metadata": {},
   "outputs": [],
   "source": [
    "def get_neighbors(graph, node, hood):\n",
    "    if hood == \"social\":\n",
    "        neighbors = [x for x in graph.neighbors(node) if \"user: \" in x]\n",
    "    if hood == \"user\":\n",
    "        neighbors = [x for x in graph.neighbors(node) if \"user: \" in x]\n",
    "    if hood == \"place\":\n",
    "        neighbors = [x for x in graph.neighbors(node) if \"venue: \" in x]   \n",
    "    return neighbors    "
   ]
  },
  {
   "cell_type": "code",
   "execution_count": null,
   "metadata": {},
   "outputs": [],
   "source": [
    "def neighborhood_size(graph,node,hops,hood):\n",
    "    if hood == \"social\":\n",
    "        neighbors = get_neighbors(graph, node, \"social\")\n",
    "        size_1hop = len(neighbors)\n",
    "        if hops == 1: \n",
    "            return size_1hop\n",
    "        if hops == 2:\n",
    "            all_nodes = neighbors\n",
    "            for x in neighbors:\n",
    "                neighbors_of_neighbors = get_neighbors(graph, node, \"social\")\n",
    "                all_nodes.append(neighbors_of_neighbors)\n",
    "            all_nodes=list(set(all_nodes)) \n",
    "            size_2hop = len(all_nodes)\n",
    "            return size_2hop\n",
    "        \n",
    "    if hood == \"place\":\n",
    "        neighbors = get_neighbors(graph, node, \"place\")\n",
    "        size_1hop = len(neighbors)\n",
    "        if hops == 1: \n",
    "            return size_1hop\n",
    "        if hops == 2: #get all the neighbors' neighbors \n",
    "            all_nodes = neighbors\n",
    "            for x in neighbors:\n",
    "                neighbors_of_neighbors = get_neighbors(graph, node, \"place\")\n",
    "                all_nodes.append(neighbors_of_neighbors)\n",
    "            all_nodes=list(set(all_nodes))\n",
    "            size_2hop = len(all_nodes)\n",
    "            return size_2hop\n",
    "                "
   ]
  },
  {
   "cell_type": "markdown",
   "metadata": {},
   "source": [
    "## Brokerage "
   ]
  },
  {
   "cell_type": "code",
   "execution_count": null,
   "metadata": {},
   "outputs": [],
   "source": [
    "def effective_size_2hop(graph, node):\n",
    "    \"\"\" first get all of the 2 hop social nodes in the network of the place \"\"\"\n",
    "    #find all neighbors of place\n",
    "    ego_neighbors=get_neighbors(graph, node, \"social\")\n",
    "    #find all neighbors of neighbors\n",
    "    all_nodes = []\n",
    "    all_nodes.extend(ego_neighbors)\n",
    "    for n in ego_neighbors:\n",
    "        neighbors_2hop = get_neighbors(graph, n, \"social\")\n",
    "        all_nodes.extend(neighbors_2hop)\n",
    "    all_nodes=list(set(all_nodes)) #drop duplicates \n",
    "    \n",
    "    \"\"\" next make all possible pairs of nodes and check if there is an edge \"\"\"\n",
    "    count_edges_in_neighborhood = 0\n",
    "    \n",
    "    if len(all_nodes) > 1: \n",
    "        neighbors_pairs = []\n",
    "        for subset in itertools.combinations(all_nodes, 2):\n",
    "            neighbors_pairs.append(subset) # now i have all possible pairs in a list \n",
    "            \n",
    "        #take the pairs list and check if the pairs are connected and do a count \n",
    "        for i in neighbors_pairs:\n",
    "            if graph.has_edge(i[0],i[1]) is True:\n",
    "                count_edges_in_neighborhood += 1 \n",
    "                \n",
    "    \"\"\" set up the equation \"\"\"\n",
    "    n = len(all_nodes)\n",
    "    t = count_edges_in_neighborhood\n",
    "    effectivesize = n - 2*t/n\n",
    "    brokerage = effectivesize/n #this normalizes the effective size between 0 and 1\n",
    "    return brokerage "
   ]
  },
  {
   "cell_type": "code",
   "execution_count": null,
   "metadata": {},
   "outputs": [],
   "source": [
    "# get the brokerage value of all venues here and store in a dict\n",
    "brokerage_potential = {}\n",
    "for node in venue_nodes:\n",
    "    brokerage=effective_size_2hop(G,node)\n",
    "    brokerage_potential[node] = brokerage\n"
   ]
  },
  {
   "cell_type": "code",
   "execution_count": null,
   "metadata": {},
   "outputs": [],
   "source": [
    "B=pd.Series(brokerage_potential)\n",
    "B.hist(bins=30)\n"
   ]
  },
  {
   "cell_type": "code",
   "execution_count": null,
   "metadata": {},
   "outputs": [],
   "source": [
    "B_sin1=B[B!=1]"
   ]
  },
  {
   "cell_type": "markdown",
   "metadata": {},
   "source": [
    "## Serendipity "
   ]
  },
  {
   "cell_type": "code",
   "execution_count": null,
   "metadata": {},
   "outputs": [],
   "source": [
    "def get_weighted_degrees(graph,node,neighbors):\n",
    "    degrees = 0\n",
    "    for i in neighbors:\n",
    "        weight=len(list(set(graph.get_edge_data(node, i)['time'])))\n",
    "        degrees += weight\n",
    "    return degrees    "
   ]
  },
  {
   "cell_type": "code",
   "execution_count": null,
   "metadata": {},
   "outputs": [],
   "source": [
    "#Serendipity measures the extent to which a venue can induce chance encounters \n",
    "def get_serendipity(graph,venue):\n",
    "    \"\"\"get all of the possible edges in the 2 hop spatial neighborhood of l,\n",
    "    later for each user, we will get the weights before t\"\"\"\n",
    "    spatial_1hop = get_neighbors(graph, venue, \"place\")\n",
    "    all_edges = [[x,venue] for x in spatial_1hop]\n",
    "\n",
    "    \n",
    "    \"\"\" get the 2 hop social neighbors of l \"\"\"\n",
    "    neighbors1_of_place = get_neighbors(graph,venue,\"social\")\n",
    "    all_neighbors_of_place = []\n",
    "    all_neighbors_of_place.extend(neighbors1_of_place)\n",
    "    for x in neighbors1_of_place:\n",
    "        neighbors2_of_place = get_neighbors(graph, x, \"social\")\n",
    "        all_neighbors_of_place.extend(neighbors2_of_place)\n",
    "    social_hood_of_place = list(set(all_neighbors_of_place))\n",
    "    \n",
    "    \"\"\"go through each user in the 2 hop neighborhood, grab the time of their check in to l,\n",
    "    and filter out all edges after that time\"\"\"\n",
    "    sum_of_probabilities = 0\n",
    "    for user in social_hood_of_place:\n",
    "    #find the time of when user checked into l\n",
    "        if graph.has_edge(user,venue) is True:\n",
    "            t=(user_twitter_time['time'][(user_twitter_time['twitter']==user[6:]) & (user_twitter_time['venue']==venue[7:])].values)[0]\n",
    "        else: \n",
    "            t=200000000000\n",
    "        #get all of the edges from u, 2 hop place neighborhood \n",
    "        place_neighborhood_of_user = []\n",
    "        place_1hop_of_user = [n for n in graph.neighbors(user) if (\"venue: \" in n) & (n != venue)]\n",
    "        place_neighborhood_of_user.extend(place_1hop_of_user)\n",
    "        #find 2 hop neighbors \n",
    "        for p in place_1hop_of_user:\n",
    "            place_2hop =[n for n in graph.neighbors(p) if (\"venue: \" in n) & (n != venue)]\n",
    "            place_neighborhood_of_user.extend(place_2hop)\n",
    "        #delete duplicates     \n",
    "        place_neighborhood_of_user = list(set(place_neighborhood_of_user))\n",
    "        #for every place in the neighborhood, check for when their connection was to l, if it's before t, then keep, if it's after, then filter out\n",
    "        weights_v_l = 0\n",
    "        for v in place_neighborhood_of_user: \n",
    "            if graph.has_edge(v,venue) is True:\n",
    "                times_of_edge =list(set(list(G.get_edge_data(v, venue).values())[0])) #get the time(s) of edge from v to l \n",
    "                weight_before_t = len([x for x in times_of_edge if x < t]) # get how many of those times are before time t, and count, and that is the weight of the edge \n",
    "            else: \n",
    "                weight_before_t = 0\n",
    "            \n",
    "            weights_v_l += weight_before_t # numerator of probability \n",
    "        \n",
    "        \"\"\"get the total weight of the spatial network of l for user u before time t \"\"\"\n",
    "        total_weights = 0\n",
    "        for edge in all_edges: \n",
    "            time_of_edge = list(set(list(graph.get_edge_data(edge[0], edge[1]).values())[0])) #list(set()) is to make sure no duplicated times \n",
    "            weight_before_t = len([x for x in time_of_edge if x < t])# get how many of those times are before time t, and count, and that is the weight of the edge \n",
    "            total_weights += weight_before_t # weights added\n",
    "        \n",
    "        if total_weights==0:\n",
    "            probability = 0\n",
    "        else:\n",
    "            probability=weights_v_l/total_weights    \n",
    "\n",
    "        sum_of_probabilities += probability\n",
    "        #print(user, probability)\n",
    "    serendipity=1- (sum_of_probabilities/len(social_hood_of_place))\n",
    "    #print(sum_of_probabilities,len(social_hood_of_place) )\n",
    "    return serendipity"
   ]
  },
  {
   "cell_type": "code",
   "execution_count": null,
   "metadata": {},
   "outputs": [],
   "source": [
    "# get the brokerage value of all venues here and store in a dict\n",
    "serendipity_value = {}\n",
    "for node in venue_nodes:\n",
    "    serendipity=get_serendipity(G,node)\n",
    "    serendipity_value[node] = serendipity\n"
   ]
  },
  {
   "cell_type": "code",
   "execution_count": null,
   "metadata": {},
   "outputs": [],
   "source": [
    "serendipity_value"
   ]
  },
  {
   "cell_type": "code",
   "execution_count": null,
   "metadata": {},
   "outputs": [],
   "source": [
    "S=pd.Series(serendipity_value)\n",
    "S.hist(bins=30)"
   ]
  },
  {
   "cell_type": "markdown",
   "metadata": {},
   "source": [
    "## Entropy "
   ]
  },
  {
   "cell_type": "code",
   "execution_count": null,
   "metadata": {},
   "outputs": [],
   "source": [
    "# get the users and number of users for each venue \n",
    "# probability that a given visit in place is made by user u, take this multiply by the log of this probability and sum it for the entropy \n",
    "from scipy import stats\n",
    "import math\n",
    "def get_entropy(graph,venue):\n",
    "    \"\"\"if venue has no spatial network, then its entropy is zero and we cannot measure it\"\"\"\n",
    "    place_neighbors = get_neighbors(graph,venue,\"place\")\n",
    "    weighted_degrees_of_place = get_weighted_degrees(graph, venue, place_neighbors) \n",
    "    if weighted_degrees_of_place == 0:\n",
    "        entropy = 0\n",
    "    else:\n",
    "        \"\"\"find all users in the 2 hop social neighborhood of l\"\"\"\n",
    "        social_1hop_of_place=get_neighbors(graph,venue,'social')\n",
    "        social_nodes_2hop = []\n",
    "        social_nodes_2hop.extend(social_1hop_of_place)\n",
    "        for node in social_1hop_of_place: \n",
    "            hop2_neighbors = get_neighbors(graph, node, 'social')\n",
    "            social_nodes_2hop.extend(hop2_neighbors)\n",
    "        social_neighborhood_of_place=list(set(social_nodes_2hop)) #delete duplicates\n",
    "        \n",
    "        \"\"\"for every user, compute probability\"\"\" \n",
    "        sum_of_probabilities = 0\n",
    "        for i in social_neighborhood_of_place: \n",
    "            place_neighborhood_of_user = [n for n in graph.neighbors(i) if (\"venue: \" in n) & (n != venue) & ((n, venue) in graph.edges(n))]\n",
    "            print(i, place_neighborhood_of_user)\n",
    "            user_venues_weight=get_weighted_degrees(graph,venue,place_neighborhood_of_user)\n",
    "            print(user_venues_weight)\n",
    "            probability=user_venues_weight/weighted_degrees_of_place\n",
    "            #print(i, probability)\n",
    "            if probability == 0:\n",
    "                x = 0\n",
    "            else:    \n",
    "                x= probability * math.log(probability) \n",
    "            #get the sum of probabilities     \n",
    "            sum_of_probabilities += x\n",
    "            #print(sum_of_probabilities)\n",
    "        entropy = - sum_of_probabilities\n",
    "        \n",
    "    return entropy\n",
    "\n",
    "        "
   ]
  },
  {
   "cell_type": "code",
   "execution_count": null,
   "metadata": {},
   "outputs": [],
   "source": [
    "entropy_value = {}\n",
    "for node in venue_nodes:\n",
    "    entropy=get_entropy(G,node)\n",
    "    entropy_value[node] = entropy\n"
   ]
  },
  {
   "cell_type": "code",
   "execution_count": null,
   "metadata": {},
   "outputs": [],
   "source": [
    "E=pd.Series(entropy_value)\n",
    "E.hist(bins=30)"
   ]
  },
  {
   "cell_type": "markdown",
   "metadata": {},
   "source": [
    "## Homogeneity - using foursquare users"
   ]
  },
  {
   "cell_type": "code",
   "execution_count": 22,
   "metadata": {},
   "outputs": [],
   "source": [
    "df_category=pd.read_csv('venues_barcelona_withdetails.csv', index_col = False)\n",
    "\n",
    "#get categories of venues \n",
    "category=df_category[[\"id\",\"category\"]].values.tolist()\n",
    "#category.append([\"4e38e9c7d4c046ee86b4ed30\", 'building'])\n",
    "#category.append([\"4e1304f2a809291902c455b6\", 'shops'])\n",
    "#category.append([\"59d2e8a75ba0467e920b9974\", \"parks_outdoors\"])"
   ]
  },
  {
   "cell_type": "code",
   "execution_count": null,
   "metadata": {},
   "outputs": [],
   "source": [
    "from scipy import spatial\n",
    "## get all visitors to a location \n",
    "\n",
    "def get_homogeneity(graph, venue):\n",
    "    \"\"\"get all of the users in the 2 hop social neighborhood\"\"\"\n",
    "    social_neighborhood_of_place=get_neighbors(graph, venue, \"user\")\n",
    "    all_social_nodes_2hop = [] \n",
    "    all_social_nodes_2hop.extend(social_neighborhood_of_place)\n",
    "    for x in social_neighborhood_of_place:\n",
    "        user_neighbors_ofhop2=get_neighbors(graph, x, \"user\")\n",
    "        #keep only the 2nd hop nodes with venue visits \n",
    "        users_with_visits=[n for n in user_neighbors_ofhop2 if get_neighbors(graph, n, \"place\")] \n",
    "        all_social_nodes_2hop.extend(users_with_visits)\n",
    "    social_nodes_2hop=list(set(all_social_nodes_2hop)) #delete duplicates\n",
    "        \n",
    "    \"\"\"for each user in the 2hop, get their venues and venues categories, build frequency vector  \"\"\"\n",
    "    users_sim_dict = {}\n",
    "    for user in social_nodes_2hop:\n",
    "        place_neighborhood_of_user=[n[-24:] for n in graph.neighbors(user) if \"venue: \" in n]\n",
    "        category_frequency = {\"arts_entertainment\" : 0, \n",
    "                           \"building\": 0, \n",
    "                           \"education\":0,  \n",
    "                           \"food\" :0,\n",
    "                           \"nightlife\"  :0,  \n",
    "                           \"parks_outdoors\"  :0,\n",
    "                           \"shops\" :0, \n",
    "                           \"travel\" :0,\n",
    "                           \"other\" : 0}\n",
    "        #for each venue get the category\n",
    "        for venue in place_neighborhood_of_user:\n",
    "            venue_category = [x[1] for x in category if venue in x[0]]\n",
    "            category_frequency[venue_category[0]] += 1\n",
    "        #turn the dict into a vector of values \n",
    "        user_visits_vector = list(category_frequency.values())\n",
    "        t=sum(user_visits_vector)\n",
    "        if t == 0: \n",
    "            user_frequency_vector = user_visits_vector\n",
    "        else:     \n",
    "            #normalize the frequencies\n",
    "            user_frequency_vector =[x / t for x in user_visits_vector]\n",
    "        #all users vectors into a dictionary \n",
    "        users_sim_dict[user] = user_frequency_vector\n",
    "    # calculate cosine similarities of frequency vectors and then sum \n",
    "    #print(users_sim_dict)\n",
    "    if len(users_sim_dict) > 1: \n",
    "        similarity_sum = 0 \n",
    "        for subset in itertools.combinations(users_sim_dict.values(), 2):\n",
    "            #print(subset)\n",
    "            sim = 1 - spatial.distance.cosine(subset[0], subset[1])\n",
    "            #print(subset, sim)\n",
    "            similarity_sum += sim     \n",
    "        homogeneity=2*similarity_sum/(len(social_nodes_2hop) * (len(social_nodes_2hop) - 1))\n",
    "        #print(similarity_sum, homogeneity)\n",
    "    else:\n",
    "        homogeneity = None\n",
    "        \n",
    "    return homogeneity\n"
   ]
  },
  {
   "cell_type": "code",
   "execution_count": null,
   "metadata": {},
   "outputs": [],
   "source": [
    "homogeneity_value = {}\n",
    "for node in venue_nodes:\n",
    "    homogeneity=get_homogeneity(G,node)\n",
    "    homogeneity_value[node] = homogeneity\n"
   ]
  },
  {
   "cell_type": "code",
   "execution_count": null,
   "metadata": {},
   "outputs": [],
   "source": [
    "H=pd.Series(homogeneity_value)\n",
    "H.hist(bins=30)"
   ]
  },
  {
   "cell_type": "markdown",
   "metadata": {},
   "source": [
    "## some analysis"
   ]
  },
  {
   "cell_type": "code",
   "execution_count": 551,
   "metadata": {},
   "outputs": [],
   "source": [
    "#generate dataframe of all venue metrics \n",
    "df=pd.DataFrame({'venue':H.index, 'homogeneity':H.values, 'entropy':E.values, 'brokerage':B.values, 'serendipity':S.values})\n",
    "cols = df.columns.tolist()\n",
    "cols = cols[-1:] + cols[:-1]\n",
    "df = df[cols]\n",
    "\n"
   ]
  },
  {
   "cell_type": "code",
   "execution_count": 26,
   "metadata": {},
   "outputs": [],
   "source": [
    "\"\"\"after creating dataframe with metrics, join with  \"\"\"\n",
    "#categories details df\n",
    "venue_details=df_category[['id','category','category_detail','lat','lon','latlon','postalcode']].values.tolist()\n",
    "dfc = pd.DataFrame([(\"venue: \" + x[0], x[1], x[2], x[3], x[4], x[5], x[6]) for x in venue_details])\n",
    "dfc.columns = ['venue', 'category','category_detail','lat','lon','latlon','postalcode' ]\n",
    "\n",
    "#merge on detailed categories and dataframe\n",
    "df=df.merge(dfc, on='venue', how=\"left\")\n",
    "df = df.drop_duplicates()"
   ]
  },
  {
   "cell_type": "code",
   "execution_count": 573,
   "metadata": {},
   "outputs": [],
   "source": [
    "#check out values grouping by categories\n",
    "category_groupby=df.groupby('category_detail').agg({\"venue\":\"count\",'brokerage': \"mean\", \"serendipity\":\"mean\"}).sort_values(\"brokerage\", ascending= False)"
   ]
  },
  {
   "cell_type": "code",
   "execution_count": 574,
   "metadata": {
    "scrolled": false
   },
   "outputs": [
    {
     "data": {
      "text/html": [
       "<div>\n",
       "<style scoped>\n",
       "    .dataframe tbody tr th:only-of-type {\n",
       "        vertical-align: middle;\n",
       "    }\n",
       "\n",
       "    .dataframe tbody tr th {\n",
       "        vertical-align: top;\n",
       "    }\n",
       "\n",
       "    .dataframe thead th {\n",
       "        text-align: right;\n",
       "    }\n",
       "</style>\n",
       "<table border=\"1\" class=\"dataframe\">\n",
       "  <thead>\n",
       "    <tr style=\"text-align: right;\">\n",
       "      <th></th>\n",
       "      <th>brokerage</th>\n",
       "      <th>serendipity</th>\n",
       "    </tr>\n",
       "    <tr>\n",
       "      <th>category</th>\n",
       "      <th></th>\n",
       "      <th></th>\n",
       "    </tr>\n",
       "  </thead>\n",
       "  <tbody>\n",
       "    <tr>\n",
       "      <th>'Monument / Landmark'</th>\n",
       "      <td>0.934692</td>\n",
       "      <td>0.918363</td>\n",
       "    </tr>\n",
       "    <tr>\n",
       "      <th>'Train Station'</th>\n",
       "      <td>0.925910</td>\n",
       "      <td>0.845340</td>\n",
       "    </tr>\n",
       "    <tr>\n",
       "      <th>'Mexican Restaurant'</th>\n",
       "      <td>0.913966</td>\n",
       "      <td>0.849449</td>\n",
       "    </tr>\n",
       "    <tr>\n",
       "      <th>'Cultural Center'</th>\n",
       "      <td>0.913337</td>\n",
       "      <td>0.879522</td>\n",
       "    </tr>\n",
       "    <tr>\n",
       "      <th>'Japanese Restaurant'</th>\n",
       "      <td>0.904994</td>\n",
       "      <td>0.885924</td>\n",
       "    </tr>\n",
       "    <tr>\n",
       "      <th>'Music Venue'</th>\n",
       "      <td>0.904438</td>\n",
       "      <td>0.846231</td>\n",
       "    </tr>\n",
       "    <tr>\n",
       "      <th>'Fast Food Restaurant'</th>\n",
       "      <td>0.900500</td>\n",
       "      <td>0.836170</td>\n",
       "    </tr>\n",
       "    <tr>\n",
       "      <th>'Nightclub'</th>\n",
       "      <td>0.894639</td>\n",
       "      <td>0.862121</td>\n",
       "    </tr>\n",
       "    <tr>\n",
       "      <th>'Theater'</th>\n",
       "      <td>0.892109</td>\n",
       "      <td>0.849062</td>\n",
       "    </tr>\n",
       "    <tr>\n",
       "      <th>'Sandwich Place'</th>\n",
       "      <td>0.891997</td>\n",
       "      <td>0.849607</td>\n",
       "    </tr>\n",
       "    <tr>\n",
       "      <th>'Wine Bar'</th>\n",
       "      <td>0.889320</td>\n",
       "      <td>0.826134</td>\n",
       "    </tr>\n",
       "    <tr>\n",
       "      <th>'Italian Restaurant'</th>\n",
       "      <td>0.882151</td>\n",
       "      <td>0.875299</td>\n",
       "    </tr>\n",
       "    <tr>\n",
       "      <th>'Cocktail Bar'</th>\n",
       "      <td>0.881677</td>\n",
       "      <td>0.849564</td>\n",
       "    </tr>\n",
       "    <tr>\n",
       "      <th>'Metro Station'</th>\n",
       "      <td>0.877623</td>\n",
       "      <td>0.855791</td>\n",
       "    </tr>\n",
       "    <tr>\n",
       "      <th>'Neighborhood'</th>\n",
       "      <td>0.876749</td>\n",
       "      <td>0.860835</td>\n",
       "    </tr>\n",
       "    <tr>\n",
       "      <th>'Historic Site'</th>\n",
       "      <td>0.875951</td>\n",
       "      <td>0.898232</td>\n",
       "    </tr>\n",
       "    <tr>\n",
       "      <th>'Library'</th>\n",
       "      <td>0.875715</td>\n",
       "      <td>0.841055</td>\n",
       "    </tr>\n",
       "    <tr>\n",
       "      <th>'Park'</th>\n",
       "      <td>0.859668</td>\n",
       "      <td>0.846525</td>\n",
       "    </tr>\n",
       "    <tr>\n",
       "      <th>'Hotel'</th>\n",
       "      <td>0.859509</td>\n",
       "      <td>0.887300</td>\n",
       "    </tr>\n",
       "    <tr>\n",
       "      <th>'Vegetarian / Vegan Restaurant'</th>\n",
       "      <td>0.858994</td>\n",
       "      <td>0.834852</td>\n",
       "    </tr>\n",
       "    <tr>\n",
       "      <th>'Mediterranean Restaurant'</th>\n",
       "      <td>0.854157</td>\n",
       "      <td>0.830811</td>\n",
       "    </tr>\n",
       "    <tr>\n",
       "      <th>'Pub'</th>\n",
       "      <td>0.852840</td>\n",
       "      <td>0.841747</td>\n",
       "    </tr>\n",
       "    <tr>\n",
       "      <th>'Asian Restaurant'</th>\n",
       "      <td>0.852374</td>\n",
       "      <td>0.837329</td>\n",
       "    </tr>\n",
       "    <tr>\n",
       "      <th>'Ice Cream Shop'</th>\n",
       "      <td>0.850830</td>\n",
       "      <td>0.836457</td>\n",
       "    </tr>\n",
       "    <tr>\n",
       "      <th>'Tapas Restaurant'</th>\n",
       "      <td>0.850482</td>\n",
       "      <td>0.812256</td>\n",
       "    </tr>\n",
       "    <tr>\n",
       "      <th>'Farmers Market'</th>\n",
       "      <td>0.849944</td>\n",
       "      <td>0.837143</td>\n",
       "    </tr>\n",
       "    <tr>\n",
       "      <th>'Sushi Restaurant'</th>\n",
       "      <td>0.848204</td>\n",
       "      <td>0.891945</td>\n",
       "    </tr>\n",
       "    <tr>\n",
       "      <th>'Track'</th>\n",
       "      <td>0.847435</td>\n",
       "      <td>0.865617</td>\n",
       "    </tr>\n",
       "    <tr>\n",
       "      <th>'Garden'</th>\n",
       "      <td>0.844919</td>\n",
       "      <td>0.836909</td>\n",
       "    </tr>\n",
       "    <tr>\n",
       "      <th>'Convention Center'</th>\n",
       "      <td>0.843929</td>\n",
       "      <td>0.893335</td>\n",
       "    </tr>\n",
       "    <tr>\n",
       "      <th>...</th>\n",
       "      <td>...</td>\n",
       "      <td>...</td>\n",
       "    </tr>\n",
       "    <tr>\n",
       "      <th>'Arts &amp; Crafts Store'</th>\n",
       "      <td>0.802567</td>\n",
       "      <td>0.756143</td>\n",
       "    </tr>\n",
       "    <tr>\n",
       "      <th>'Tech Startup'</th>\n",
       "      <td>0.797474</td>\n",
       "      <td>0.901843</td>\n",
       "    </tr>\n",
       "    <tr>\n",
       "      <th>'Bookstore'</th>\n",
       "      <td>0.796192</td>\n",
       "      <td>0.833373</td>\n",
       "    </tr>\n",
       "    <tr>\n",
       "      <th>'Government Building'</th>\n",
       "      <td>0.794677</td>\n",
       "      <td>0.822297</td>\n",
       "    </tr>\n",
       "    <tr>\n",
       "      <th>'Concert Hall'</th>\n",
       "      <td>0.793744</td>\n",
       "      <td>0.842301</td>\n",
       "    </tr>\n",
       "    <tr>\n",
       "      <th>'Other Great Outdoors'</th>\n",
       "      <td>0.793594</td>\n",
       "      <td>0.824001</td>\n",
       "    </tr>\n",
       "    <tr>\n",
       "      <th>'Breakfast Spot'</th>\n",
       "      <td>0.789296</td>\n",
       "      <td>0.817112</td>\n",
       "    </tr>\n",
       "    <tr>\n",
       "      <th>'School'</th>\n",
       "      <td>0.788705</td>\n",
       "      <td>0.836673</td>\n",
       "    </tr>\n",
       "    <tr>\n",
       "      <th>'Coworking Space'</th>\n",
       "      <td>0.784762</td>\n",
       "      <td>0.811458</td>\n",
       "    </tr>\n",
       "    <tr>\n",
       "      <th>\"Women's Store\"</th>\n",
       "      <td>0.784434</td>\n",
       "      <td>0.834294</td>\n",
       "    </tr>\n",
       "    <tr>\n",
       "      <th>'BBQ Joint'</th>\n",
       "      <td>0.784303</td>\n",
       "      <td>0.772714</td>\n",
       "    </tr>\n",
       "    <tr>\n",
       "      <th>'Event Space'</th>\n",
       "      <td>0.780122</td>\n",
       "      <td>0.835563</td>\n",
       "    </tr>\n",
       "    <tr>\n",
       "      <th>'Deli / Bodega'</th>\n",
       "      <td>0.778760</td>\n",
       "      <td>0.868074</td>\n",
       "    </tr>\n",
       "    <tr>\n",
       "      <th>'Furniture / Home Store'</th>\n",
       "      <td>0.778535</td>\n",
       "      <td>0.849353</td>\n",
       "    </tr>\n",
       "    <tr>\n",
       "      <th>'Church'</th>\n",
       "      <td>0.777844</td>\n",
       "      <td>0.826303</td>\n",
       "    </tr>\n",
       "    <tr>\n",
       "      <th>'Office'</th>\n",
       "      <td>0.777134</td>\n",
       "      <td>0.868520</td>\n",
       "    </tr>\n",
       "    <tr>\n",
       "      <th>'Bakery'</th>\n",
       "      <td>0.776539</td>\n",
       "      <td>0.826308</td>\n",
       "    </tr>\n",
       "    <tr>\n",
       "      <th>'Diner'</th>\n",
       "      <td>0.776187</td>\n",
       "      <td>0.814685</td>\n",
       "    </tr>\n",
       "    <tr>\n",
       "      <th>'Miscellaneous Shop'</th>\n",
       "      <td>0.762780</td>\n",
       "      <td>0.784424</td>\n",
       "    </tr>\n",
       "    <tr>\n",
       "      <th>'Supermarket'</th>\n",
       "      <td>0.762112</td>\n",
       "      <td>0.816397</td>\n",
       "    </tr>\n",
       "    <tr>\n",
       "      <th>'Coffee Shop'</th>\n",
       "      <td>0.755585</td>\n",
       "      <td>0.816749</td>\n",
       "    </tr>\n",
       "    <tr>\n",
       "      <th>'Salon / Barbershop'</th>\n",
       "      <td>0.749359</td>\n",
       "      <td>0.851477</td>\n",
       "    </tr>\n",
       "    <tr>\n",
       "      <th>'Snack Place'</th>\n",
       "      <td>0.716717</td>\n",
       "      <td>0.800902</td>\n",
       "    </tr>\n",
       "    <tr>\n",
       "      <th>'Playground'</th>\n",
       "      <td>0.711016</td>\n",
       "      <td>0.730793</td>\n",
       "    </tr>\n",
       "    <tr>\n",
       "      <th>'Gas Station'</th>\n",
       "      <td>0.709815</td>\n",
       "      <td>0.788953</td>\n",
       "    </tr>\n",
       "    <tr>\n",
       "      <th>'Grocery Store'</th>\n",
       "      <td>0.683136</td>\n",
       "      <td>0.834082</td>\n",
       "    </tr>\n",
       "    <tr>\n",
       "      <th>'Design Studio'</th>\n",
       "      <td>0.672894</td>\n",
       "      <td>0.817261</td>\n",
       "    </tr>\n",
       "    <tr>\n",
       "      <th>'Bank'</th>\n",
       "      <td>0.655177</td>\n",
       "      <td>0.845232</td>\n",
       "    </tr>\n",
       "    <tr>\n",
       "      <th>'Non-Profit'</th>\n",
       "      <td>0.635225</td>\n",
       "      <td>0.748296</td>\n",
       "    </tr>\n",
       "    <tr>\n",
       "      <th>'Cosmetics Shop'</th>\n",
       "      <td>0.631343</td>\n",
       "      <td>0.843855</td>\n",
       "    </tr>\n",
       "  </tbody>\n",
       "</table>\n",
       "<p>85 rows × 2 columns</p>\n",
       "</div>"
      ],
      "text/plain": [
       "                                  brokerage  serendipity\n",
       "category                                                \n",
       " 'Monument / Landmark'             0.934692     0.918363\n",
       " 'Train Station'                   0.925910     0.845340\n",
       " 'Mexican Restaurant'              0.913966     0.849449\n",
       " 'Cultural Center'                 0.913337     0.879522\n",
       " 'Japanese Restaurant'             0.904994     0.885924\n",
       " 'Music Venue'                     0.904438     0.846231\n",
       " 'Fast Food Restaurant'            0.900500     0.836170\n",
       " 'Nightclub'                       0.894639     0.862121\n",
       " 'Theater'                         0.892109     0.849062\n",
       " 'Sandwich Place'                  0.891997     0.849607\n",
       " 'Wine Bar'                        0.889320     0.826134\n",
       " 'Italian Restaurant'              0.882151     0.875299\n",
       " 'Cocktail Bar'                    0.881677     0.849564\n",
       " 'Metro Station'                   0.877623     0.855791\n",
       " 'Neighborhood'                    0.876749     0.860835\n",
       " 'Historic Site'                   0.875951     0.898232\n",
       " 'Library'                         0.875715     0.841055\n",
       " 'Park'                            0.859668     0.846525\n",
       " 'Hotel'                           0.859509     0.887300\n",
       " 'Vegetarian / Vegan Restaurant'   0.858994     0.834852\n",
       " 'Mediterranean Restaurant'        0.854157     0.830811\n",
       " 'Pub'                             0.852840     0.841747\n",
       " 'Asian Restaurant'                0.852374     0.837329\n",
       " 'Ice Cream Shop'                  0.850830     0.836457\n",
       " 'Tapas Restaurant'                0.850482     0.812256\n",
       " 'Farmers Market'                  0.849944     0.837143\n",
       " 'Sushi Restaurant'                0.848204     0.891945\n",
       " 'Track'                           0.847435     0.865617\n",
       " 'Garden'                          0.844919     0.836909\n",
       " 'Convention Center'               0.843929     0.893335\n",
       "...                                     ...          ...\n",
       " 'Arts & Crafts Store'             0.802567     0.756143\n",
       " 'Tech Startup'                    0.797474     0.901843\n",
       " 'Bookstore'                       0.796192     0.833373\n",
       " 'Government Building'             0.794677     0.822297\n",
       " 'Concert Hall'                    0.793744     0.842301\n",
       " 'Other Great Outdoors'            0.793594     0.824001\n",
       " 'Breakfast Spot'                  0.789296     0.817112\n",
       " 'School'                          0.788705     0.836673\n",
       " 'Coworking Space'                 0.784762     0.811458\n",
       " \"Women's Store\"                   0.784434     0.834294\n",
       " 'BBQ Joint'                       0.784303     0.772714\n",
       " 'Event Space'                     0.780122     0.835563\n",
       " 'Deli / Bodega'                   0.778760     0.868074\n",
       " 'Furniture / Home Store'          0.778535     0.849353\n",
       " 'Church'                          0.777844     0.826303\n",
       " 'Office'                          0.777134     0.868520\n",
       " 'Bakery'                          0.776539     0.826308\n",
       " 'Diner'                           0.776187     0.814685\n",
       " 'Miscellaneous Shop'              0.762780     0.784424\n",
       " 'Supermarket'                     0.762112     0.816397\n",
       " 'Coffee Shop'                     0.755585     0.816749\n",
       " 'Salon / Barbershop'              0.749359     0.851477\n",
       " 'Snack Place'                     0.716717     0.800902\n",
       " 'Playground'                      0.711016     0.730793\n",
       " 'Gas Station'                     0.709815     0.788953\n",
       " 'Grocery Store'                   0.683136     0.834082\n",
       " 'Design Studio'                   0.672894     0.817261\n",
       " 'Bank'                            0.655177     0.845232\n",
       " 'Non-Profit'                      0.635225     0.748296\n",
       " 'Cosmetics Shop'                  0.631343     0.843855\n",
       "\n",
       "[85 rows x 2 columns]"
      ]
     },
     "execution_count": 574,
     "metadata": {},
     "output_type": "execute_result"
    }
   ],
   "source": [
    "#filter out those with less than 6 venues per category\n",
    "category_groupby[[\"brokerage\", \"serendipity\"]][ooo[\"venue\"] > 6]"
   ]
  },
  {
   "cell_type": "code",
   "execution_count": 415,
   "metadata": {},
   "outputs": [],
   "source": [
    "#take out brokerage values that are 1 \n",
    "bsin1 = df[df[\"brokerage\"]<1].copy()\n",
    "bgraph=bsin1.groupby([\"category\"], as_index=False).agg({\"brokerage\": [\"mean\", 'std', \"min\",\"max\"]})"
   ]
  },
  {
   "cell_type": "code",
   "execution_count": 468,
   "metadata": {},
   "outputs": [
    {
     "data": {
      "image/png": "[encoded data removed]",
      "text/plain": [
       "<Figure size 432x288 with 1 Axes>"
      ]
     },
     "metadata": {},
     "output_type": "display_data"
    }
   ],
   "source": [
    "import matplotlib.pyplot as plt\n",
    "import numpy as np\n",
    "\n",
    "\n",
    "# groupby categories then array for the plot \n",
    "bplotarray=bsin1.groupby('category')['brokerage'].apply(list)\n",
    "\n",
    "# Random test data\n",
    "np.random.seed(19680801)\n",
    "all_data = bplotarray.values\n",
    "labels = bplotarray.index\n",
    "\n",
    "\n",
    "# rectangular box plot\n",
    "plt.boxplot(all_data,\n",
    "            vert=False,  # vertical box alignment\n",
    "            patch_artist=True,  # fill with color\n",
    "            labels=labels,\n",
    "            showfliers=False\n",
    "           )  # will be used to label x-ticks\n",
    "plt.xlabel(\"social brokerage\")\n",
    "plt.tight_layout()\n",
    "#savefig('Bboxplot.png', )\n",
    "plt.savefig('Bboxplot.png')"
   ]
  },
  {
   "cell_type": "code",
   "execution_count": 537,
   "metadata": {},
   "outputs": [
    {
     "data": {
      "image/png": "[encoded data removed]",
      "text/plain": [
       "<Figure size 432x288 with 1 Axes>"
      ]
     },
     "metadata": {},
     "output_type": "display_data"
    }
   ],
   "source": [
    "import matplotlib.pyplot as plt\n",
    "import numpy as np\n",
    "\n",
    "\n",
    "# groupby categories then array for the plot \n",
    "splotarray=cleandf.groupby('category')['serendipity'].apply(list)\n",
    "\n",
    "# Random test data\n",
    "np.random.seed(19680801)\n",
    "all_data = splotarray.values\n",
    "labels = splotarray.index\n",
    "\n",
    "\n",
    "# rectangular box plot\n",
    "plt.boxplot(all_data,\n",
    "            vert=False,  # vertical box alignment\n",
    "            patch_artist=True,  # fill with color\n",
    "            labels=labels,\n",
    "            showfliers=False\n",
    "           )  # will be used to label x-ticks\n",
    "plt.xlabel(\"serendipity\")\n",
    "plt.tight_layout()\n",
    "#savefig('Bboxplot.png', )\n",
    "plt.savefig('Sboxplot.png')"
   ]
  },
  {
   "cell_type": "code",
   "execution_count": 538,
   "metadata": {},
   "outputs": [
    {
     "data": {
      "image/png": "[encoded data removed]",
      "text/plain": [
       "<Figure size 432x288 with 1 Axes>"
      ]
     },
     "metadata": {},
     "output_type": "display_data"
    }
   ],
   "source": [
    "import matplotlib.pyplot as plt\n",
    "import numpy as np\n",
    "\n",
    "\n",
    "# groupby categories then array for the plot \n",
    "hplotarray=cleandf.groupby('category')['homogeneity'].apply(list)\n",
    "\n",
    "# Random test data\n",
    "np.random.seed(19680801)\n",
    "all_data = hplotarray.values\n",
    "labels = hplotarray.index\n",
    "\n",
    "\n",
    "# rectangular box plot\n",
    "plt.boxplot(all_data,\n",
    "            vert=False,  # vertical box alignment\n",
    "            patch_artist=True,  # fill with color\n",
    "            labels=labels,\n",
    "            showfliers=False\n",
    "           )  # will be used to label x-ticks\n",
    "plt.xlabel(\"homogeneity\")\n",
    "plt.tight_layout()\n",
    "#savefig('Bboxplot.png', )\n",
    "plt.savefig('Hboxplot.png')"
   ]
  },
  {
   "cell_type": "code",
   "execution_count": 540,
   "metadata": {},
   "outputs": [
    {
     "data": {
      "image/png": "[encoded data removed]",
      "text/plain": [
       "<Figure size 432x288 with 1 Axes>"
      ]
     },
     "metadata": {},
     "output_type": "display_data"
    }
   ],
   "source": [
    "import matplotlib.pyplot as plt\n",
    "import numpy as np\n",
    "\n",
    "\n",
    "# groupby categories then array for the plot \n",
    "eplotarray=cleandf.groupby('category')['entropy'].apply(list)\n",
    "\n",
    "# Random test data\n",
    "np.random.seed(19680801)\n",
    "all_data = eplotarray.values\n",
    "labels = eplotarray.index\n",
    "\n",
    "\n",
    "# rectangular box plot\n",
    "plt.boxplot(all_data,\n",
    "            vert=False,  # vertical box alignment\n",
    "            patch_artist=True,  # fill with color\n",
    "            labels=labels,\n",
    "            showfliers=False\n",
    "           )  # will be used to label x-ticks\n",
    "plt.xlabel(\"Entropy\")\n",
    "plt.tight_layout()\n",
    "#savefig('Bboxplot.png', )\n",
    "plt.savefig('Eboxplot.png')"
   ]
  },
  {
   "cell_type": "code",
   "execution_count": null,
   "metadata": {},
   "outputs": [],
   "source": []
  },
  {
   "cell_type": "code",
   "execution_count": 509,
   "metadata": {},
   "outputs": [],
   "source": []
  },
  {
   "cell_type": "code",
   "execution_count": 496,
   "metadata": {},
   "outputs": [
    {
     "data": {
      "text/plain": [
       "Text(0.5,0,'homogeneity')"
      ]
     },
     "execution_count": 496,
     "metadata": {},
     "output_type": "execute_result"
    },
    {
     "data": {
      "image/png": "[encoded data removed]",
      "text/plain": [
       "<Figure size 936x720 with 4 Axes>"
      ]
     },
     "metadata": {},
     "output_type": "display_data"
    }
   ],
   "source": [
    "#taking out extreme values of 1 and 0  then graph \n",
    "cleandf = bsin1[(bsin1['serendipity']<1) & (bsin1['entropy']>0)].copy()\n",
    "cleandf.dropna(inplace=True)\n",
    "\n",
    "fig = plt.figure(figsize=(13,10))\n",
    "names = ['brokerage', 'serendipity', 'entropy', 'homogeneity']\n",
    "\n",
    "ax = fig.add_subplot(2,2,1)\n",
    "ax.hist(bsin1['brokerage'], bins=30, color = \"red\", alpha = .6)\n",
    "ax.set_xlabel(\"brokerage\")\n",
    "\n",
    "\n",
    "ax = fig.add_subplot(2,2,2)\n",
    "ax.hist(df['serendipity'][df['serendipity']<1], bins=30, color = \"red\", alpha = .6)\n",
    "ax.set_xlabel(\"serendipity\")\n",
    "\n",
    "ax = fig.add_subplot(2,2,3)\n",
    "ax.hist(df['entropy'][df['entropy']>0], bins=30, color = \"red\", alpha = .6)\n",
    "ax.set_xlabel(\"entropy\")\n",
    "\n",
    "ax = fig.add_subplot(2,2,4)\n",
    "ax.hist(df['homogeneity'].dropna(), bins=30, color =\"red\", alpha = .6)\n",
    "ax.set_xlabel(\"homogeneity\")"
   ]
  },
  {
   "cell_type": "markdown",
   "metadata": {},
   "source": [
    "### some graphs to describe relations between the metrics "
   ]
  },
  {
   "cell_type": "code",
   "execution_count": 505,
   "metadata": {},
   "outputs": [
    {
     "data": {
      "image/png": "[encoded data removed]",
      "text/plain": [
       "<Figure size 432x288 with 1 Axes>"
      ]
     },
     "metadata": {},
     "output_type": "display_data"
    }
   ],
   "source": [
    "plt.scatter(cleandf[\"brokerage\"],cleandf[\"homogeneity\"])\n",
    "plt.show()"
   ]
  },
  {
   "cell_type": "code",
   "execution_count": 506,
   "metadata": {},
   "outputs": [
    {
     "data": {
      "image/png": "[encoded data removed]",
      "text/plain": [
       "<Figure size 432x288 with 1 Axes>"
      ]
     },
     "metadata": {},
     "output_type": "display_data"
    }
   ],
   "source": [
    "plt.scatter(cleandf[\"brokerage\"],cleandf[\"serendipity\"])\n",
    "plt.show()"
   ]
  },
  {
   "cell_type": "code",
   "execution_count": 507,
   "metadata": {},
   "outputs": [
    {
     "data": {
      "image/png": "[encoded data removed]",
      "text/plain": [
       "<Figure size 432x288 with 1 Axes>"
      ]
     },
     "metadata": {},
     "output_type": "display_data"
    }
   ],
   "source": [
    "plt.scatter(cleandf[\"entropy\"],cleandf[\"homogeneity\"])\n",
    "plt.show()"
   ]
  },
  {
   "cell_type": "markdown",
   "metadata": {},
   "source": [
    "homogeneity vs brokerage relationship"
   ]
  },
  {
   "cell_type": "code",
   "execution_count": 510,
   "metadata": {},
   "outputs": [
    {
     "data": {
      "text/html": [
       "<div>\n",
       "<style scoped>\n",
       "    .dataframe tbody tr th:only-of-type {\n",
       "        vertical-align: middle;\n",
       "    }\n",
       "\n",
       "    .dataframe tbody tr th {\n",
       "        vertical-align: top;\n",
       "    }\n",
       "\n",
       "    .dataframe thead th {\n",
       "        text-align: right;\n",
       "    }\n",
       "</style>\n",
       "<table border=\"1\" class=\"dataframe\">\n",
       "  <thead>\n",
       "    <tr style=\"text-align: right;\">\n",
       "      <th></th>\n",
       "      <th>homogeneity</th>\n",
       "      <th>std</th>\n",
       "    </tr>\n",
       "    <tr>\n",
       "      <th>brokerage</th>\n",
       "      <th></th>\n",
       "      <th></th>\n",
       "    </tr>\n",
       "  </thead>\n",
       "  <tbody>\n",
       "    <tr>\n",
       "      <th>(0.494, 0.529]</th>\n",
       "      <td>0.560978</td>\n",
       "      <td>0.322686</td>\n",
       "    </tr>\n",
       "    <tr>\n",
       "      <th>(0.529, 0.565]</th>\n",
       "      <td>0.509513</td>\n",
       "      <td>0.204850</td>\n",
       "    </tr>\n",
       "    <tr>\n",
       "      <th>(0.565, 0.6]</th>\n",
       "      <td>0.380591</td>\n",
       "      <td>0.060887</td>\n",
       "    </tr>\n",
       "    <tr>\n",
       "      <th>(0.6, 0.635]</th>\n",
       "      <td>0.419632</td>\n",
       "      <td>0.149139</td>\n",
       "    </tr>\n",
       "    <tr>\n",
       "      <th>(0.635, 0.67]</th>\n",
       "      <td>0.437721</td>\n",
       "      <td>0.107269</td>\n",
       "    </tr>\n",
       "    <tr>\n",
       "      <th>(0.67, 0.706]</th>\n",
       "      <td>0.397987</td>\n",
       "      <td>0.120299</td>\n",
       "    </tr>\n",
       "    <tr>\n",
       "      <th>(0.706, 0.741]</th>\n",
       "      <td>0.386490</td>\n",
       "      <td>0.099766</td>\n",
       "    </tr>\n",
       "    <tr>\n",
       "      <th>(0.741, 0.776]</th>\n",
       "      <td>0.395492</td>\n",
       "      <td>0.156467</td>\n",
       "    </tr>\n",
       "    <tr>\n",
       "      <th>(0.776, 0.811]</th>\n",
       "      <td>0.391152</td>\n",
       "      <td>0.140205</td>\n",
       "    </tr>\n",
       "    <tr>\n",
       "      <th>(0.811, 0.847]</th>\n",
       "      <td>0.380496</td>\n",
       "      <td>0.119456</td>\n",
       "    </tr>\n",
       "    <tr>\n",
       "      <th>(0.847, 0.882]</th>\n",
       "      <td>0.381532</td>\n",
       "      <td>0.111461</td>\n",
       "    </tr>\n",
       "    <tr>\n",
       "      <th>(0.882, 0.917]</th>\n",
       "      <td>0.365257</td>\n",
       "      <td>0.081178</td>\n",
       "    </tr>\n",
       "    <tr>\n",
       "      <th>(0.917, 0.952]</th>\n",
       "      <td>0.364150</td>\n",
       "      <td>0.082617</td>\n",
       "    </tr>\n",
       "    <tr>\n",
       "      <th>(0.952, 0.988]</th>\n",
       "      <td>0.423710</td>\n",
       "      <td>0.132354</td>\n",
       "    </tr>\n",
       "  </tbody>\n",
       "</table>\n",
       "</div>"
      ],
      "text/plain": [
       "                homogeneity       std\n",
       "brokerage                            \n",
       "(0.494, 0.529]     0.560978  0.322686\n",
       "(0.529, 0.565]     0.509513  0.204850\n",
       "(0.565, 0.6]       0.380591  0.060887\n",
       "(0.6, 0.635]       0.419632  0.149139\n",
       "(0.635, 0.67]      0.437721  0.107269\n",
       "(0.67, 0.706]      0.397987  0.120299\n",
       "(0.706, 0.741]     0.386490  0.099766\n",
       "(0.741, 0.776]     0.395492  0.156467\n",
       "(0.776, 0.811]     0.391152  0.140205\n",
       "(0.811, 0.847]     0.380496  0.119456\n",
       "(0.847, 0.882]     0.381532  0.111461\n",
       "(0.882, 0.917]     0.365257  0.081178\n",
       "(0.917, 0.952]     0.364150  0.082617\n",
       "(0.952, 0.988]     0.423710  0.132354"
      ]
     },
     "execution_count": 510,
     "metadata": {},
     "output_type": "execute_result"
    }
   ],
   "source": [
    "import numpy as np\n",
    "#group brokerage together into bins and take the mean of homogeniety and standard error in each group \n",
    "bins = np.linspace(cleandf['brokerage'].min(), cleandf['brokerage'].max(), 15)\n",
    "groups = cleandf.groupby(pd.cut(cleandf['brokerage'], bins))\n",
    "#df for brokerage and homogeneity relationship\n",
    "b_h=pd.DataFrame(groups.mean().homogeneity)\n",
    "b_h['std']=groups.std().homogeneity.values.tolist()\n",
    "b_h.fillna(0)"
   ]
  },
  {
   "cell_type": "code",
   "execution_count": 511,
   "metadata": {},
   "outputs": [
    {
     "data": {
      "image/png": "[encoded data removed]",
      "text/plain": [
       "<Figure size 432x288 with 1 Axes>"
      ]
     },
     "metadata": {},
     "output_type": "display_data"
    }
   ],
   "source": [
    "x = bins[0:14]\n",
    "y = b_h['homogeneity'].tolist()\n",
    "\n",
    "e = b_h['std'].tolist()\n",
    "plt.errorbar(x, y, linestyle='-', marker='^')\n",
    "plt.xlabel(\"brokerage\")\n",
    "plt.ylabel(\"mean homogeneity\")\n",
    "plt.show()\n"
   ]
  },
  {
   "cell_type": "markdown",
   "metadata": {},
   "source": [
    "entropy and homogeneity relationship"
   ]
  },
  {
   "cell_type": "code",
   "execution_count": 513,
   "metadata": {},
   "outputs": [
    {
     "data": {
      "text/html": [
       "<div>\n",
       "<style scoped>\n",
       "    .dataframe tbody tr th:only-of-type {\n",
       "        vertical-align: middle;\n",
       "    }\n",
       "\n",
       "    .dataframe tbody tr th {\n",
       "        vertical-align: top;\n",
       "    }\n",
       "\n",
       "    .dataframe thead th {\n",
       "        text-align: right;\n",
       "    }\n",
       "</style>\n",
       "<table border=\"1\" class=\"dataframe\">\n",
       "  <thead>\n",
       "    <tr style=\"text-align: right;\">\n",
       "      <th></th>\n",
       "      <th>homogeneity</th>\n",
       "      <th>std</th>\n",
       "    </tr>\n",
       "    <tr>\n",
       "      <th>entropy</th>\n",
       "      <th></th>\n",
       "      <th></th>\n",
       "    </tr>\n",
       "  </thead>\n",
       "  <tbody>\n",
       "    <tr>\n",
       "      <th>(0.0168, 0.782]</th>\n",
       "      <td>0.408746</td>\n",
       "      <td>0.171298</td>\n",
       "    </tr>\n",
       "    <tr>\n",
       "      <th>(0.782, 1.547]</th>\n",
       "      <td>0.397887</td>\n",
       "      <td>0.123390</td>\n",
       "    </tr>\n",
       "    <tr>\n",
       "      <th>(1.547, 2.312]</th>\n",
       "      <td>0.375260</td>\n",
       "      <td>0.084773</td>\n",
       "    </tr>\n",
       "    <tr>\n",
       "      <th>(2.312, 3.077]</th>\n",
       "      <td>0.357290</td>\n",
       "      <td>0.060343</td>\n",
       "    </tr>\n",
       "    <tr>\n",
       "      <th>(3.077, 3.841]</th>\n",
       "      <td>0.359874</td>\n",
       "      <td>0.064506</td>\n",
       "    </tr>\n",
       "    <tr>\n",
       "      <th>(3.841, 4.606]</th>\n",
       "      <td>0.349557</td>\n",
       "      <td>0.048777</td>\n",
       "    </tr>\n",
       "    <tr>\n",
       "      <th>(4.606, 5.371]</th>\n",
       "      <td>0.378087</td>\n",
       "      <td>0.088480</td>\n",
       "    </tr>\n",
       "    <tr>\n",
       "      <th>(5.371, 6.136]</th>\n",
       "      <td>0.328792</td>\n",
       "      <td>0.032947</td>\n",
       "    </tr>\n",
       "    <tr>\n",
       "      <th>(6.136, 6.901]</th>\n",
       "      <td>0.329584</td>\n",
       "      <td>0.030968</td>\n",
       "    </tr>\n",
       "  </tbody>\n",
       "</table>\n",
       "</div>"
      ],
      "text/plain": [
       "                 homogeneity       std\n",
       "entropy                               \n",
       "(0.0168, 0.782]     0.408746  0.171298\n",
       "(0.782, 1.547]      0.397887  0.123390\n",
       "(1.547, 2.312]      0.375260  0.084773\n",
       "(2.312, 3.077]      0.357290  0.060343\n",
       "(3.077, 3.841]      0.359874  0.064506\n",
       "(3.841, 4.606]      0.349557  0.048777\n",
       "(4.606, 5.371]      0.378087  0.088480\n",
       "(5.371, 6.136]      0.328792  0.032947\n",
       "(6.136, 6.901]      0.329584  0.030968"
      ]
     },
     "execution_count": 513,
     "metadata": {},
     "output_type": "execute_result"
    }
   ],
   "source": [
    "#group entropy together into bins and take the mean of homogeneity and standard error in each group \n",
    "bins = np.linspace(cleandf.entropy.min(), cleandf.entropy.max(), 10)\n",
    "groups = cleandf.groupby(pd.cut(cleandf.entropy, bins))\n",
    "e_h=pd.DataFrame(groups.mean().homogeneity)\n",
    "e_h['std']=groups.std().homogeneity.values.tolist()\n",
    "e_h.fillna(0)"
   ]
  },
  {
   "cell_type": "code",
   "execution_count": 536,
   "metadata": {},
   "outputs": [
    {
     "data": {
      "image/png": "[encoded data removed]",
      "text/plain": [
       "<Figure size 432x288 with 1 Axes>"
      ]
     },
     "metadata": {},
     "output_type": "display_data"
    }
   ],
   "source": [
    "x = bins[0:9]\n",
    "y = e_h['homogeneity'].tolist()\n",
    "e = e_h['std'].tolist()\n",
    "plt.errorbar(x, y, linestyle='-', marker='^', color = \"black\")\n",
    "plt.xlabel(\"entropy\")\n",
    "plt.ylabel(\"mean homogeneity\")\n",
    "savefig('entropy_homogeneity.png') \n",
    "plt.show()\n",
    "\n",
    "#plt.savefig('entropy_homogeneity.png')"
   ]
  },
  {
   "cell_type": "markdown",
   "metadata": {},
   "source": [
    "brokerage and serendipity relationship"
   ]
  },
  {
   "cell_type": "code",
   "execution_count": 535,
   "metadata": {},
   "outputs": [
    {
     "data": {
      "image/png": "[encoded data removed]",
      "text/plain": [
       "<Figure size 432x288 with 1 Axes>"
      ]
     },
     "metadata": {},
     "output_type": "display_data"
    }
   ],
   "source": [
    "#group entropy together into bins and take the mean of homogeneity and standard error in each group \n",
    "bins = np.linspace(.484, cleandf.brokerage.max(), 14)\n",
    "groups = cleandf.groupby(pd.cut(cleandf.brokerage, bins))\n",
    "b_s=pd.DataFrame(groups.mean().serendipity)\n",
    "b_s['std']=groups.std().serendipity.values.tolist()\n",
    "b_s.fillna(0)\n",
    "\n",
    "x = bins[0:13]\n",
    "y = b_s['serendipity'].tolist()\n",
    "\n",
    "e = b_s['std'].tolist()\n",
    "plt.errorbar(x, y, linestyle='-', marker='^', color = \"black\")\n",
    "plt.xlabel(\"brokerage\")\n",
    "plt.ylabel(\"mean serendipity\")\n",
    "savefig('brokerage_serendipity.png')\n",
    "plt.show()\n",
    "\n",
    "#plt.savefig('brokerage_serendipity.png')"
   ]
  },
  {
   "cell_type": "markdown",
   "metadata": {},
   "source": [
    "degrees stats and ccdfs"
   ]
  },
  {
   "cell_type": "code",
   "execution_count": 321,
   "metadata": {},
   "outputs": [],
   "source": [
    "#social network degree - to get all of the degrees in a social network for all social nodes \\\n",
    "social_degrees = [] \n",
    "for user in user_nodes:\n",
    "    s_degree=get_degrees(G, user, \"social\")\n",
    "    social_degrees.append(s_degree)"
   ]
  },
  {
   "cell_type": "code",
   "execution_count": 322,
   "metadata": {},
   "outputs": [
    {
     "name": "stdout",
     "output_type": "stream",
     "text": [
      "avg social degrees:  4.1\n"
     ]
    }
   ],
   "source": [
    "print(\"avg social degrees: \", round(sum(social_degrees)/len(social_degrees), 2))"
   ]
  },
  {
   "cell_type": "code",
   "execution_count": 324,
   "metadata": {},
   "outputs": [],
   "source": [
    "# place netwrok degree - \n",
    "place_degrees = [] \n",
    "for place in venue_nodes:\n",
    "    p_degree = get_degrees(G, place, \"place\")\n",
    "    place_degrees.append(p_degree)"
   ]
  },
  {
   "cell_type": "code",
   "execution_count": 325,
   "metadata": {},
   "outputs": [
    {
     "name": "stdout",
     "output_type": "stream",
     "text": [
      "avg place degrees:  27.4\n"
     ]
    }
   ],
   "source": [
    "print(\"avg place degrees: \", round(sum(place_degrees)/len(place_degrees), 2))"
   ]
  },
  {
   "cell_type": "code",
   "execution_count": 303,
   "metadata": {},
   "outputs": [],
   "source": [
    "## number of check - ins per user - proxy by # of venues per user \n",
    "user_venue_degrees = []\n",
    "for user in user_nodes:\n",
    "    v_degree=get_degrees(G, user, \"place\")\n",
    "    user_venue_degrees.append(v_degree)"
   ]
  },
  {
   "cell_type": "code",
   "execution_count": 304,
   "metadata": {},
   "outputs": [
    {
     "name": "stdout",
     "output_type": "stream",
     "text": [
      "avg venues per user:  2.33\n"
     ]
    }
   ],
   "source": [
    "print(\"avg venues per user: \", round(sum(user_venue_degrees)/len(user_venue_degrees), 2))"
   ]
  },
  {
   "cell_type": "code",
   "execution_count": 305,
   "metadata": {},
   "outputs": [],
   "source": [
    "## number of check - ins per venue - proxy by # of users per venue\n",
    "venue_user_degrees = []\n",
    "for venue in venue_nodes:\n",
    "    u_degree = get_degrees(G, venue, \"social\")\n",
    "    venue_user_degrees.append(u_degree)"
   ]
  },
  {
   "cell_type": "code",
   "execution_count": 306,
   "metadata": {},
   "outputs": [
    {
     "name": "stdout",
     "output_type": "stream",
     "text": [
      "avg users per venue:  4.82\n"
     ]
    }
   ],
   "source": [
    "print(\"avg users per venue: \", round(sum(venue_user_degrees)/len(venue_user_degrees), 2))"
   ]
  },
  {
   "cell_type": "code",
   "execution_count": 533,
   "metadata": {},
   "outputs": [],
   "source": [
    "def plot_ccdf(data, ax):\n",
    "    sorted_vals = np.sort(np.unique(data))\n",
    "    ccdf = np.zeros(len(sorted_vals))\n",
    "    n = float(len(data))\n",
    "    for i, val in enumerate(sorted_vals):\n",
    "        ccdf[i] = np.sum(data >= val)/n\n",
    "    ax.plot(sorted_vals, ccdf, marker='o', color = \"blue\", alpha= .3)"
   ]
  },
  {
   "cell_type": "code",
   "execution_count": 534,
   "metadata": {},
   "outputs": [
    {
     "data": {
      "image/png": "[encoded data removed]",
      "text/plain": [
       "<Figure size 720x720 with 4 Axes>"
      ]
     },
     "metadata": {},
     "output_type": "display_data"
    }
   ],
   "source": [
    "from matplotlib import *\n",
    "import sys\n",
    "from pylab import *\n",
    "\n",
    "fig = plt.figure(figsize=(10,10))\n",
    "\n",
    "degree_metrics = [social_degrees, place_degrees,user_venue_degrees, venue_user_degrees]\n",
    "names = ['social network degree', 'place network degree', 'venues per user', 'users per venue']\n",
    "for i, (data, name) in enumerate(zip(degree_metrics, names)):\n",
    "    ax = fig.add_subplot(2,2,i+1)\n",
    "    plot_ccdf(data, ax)\n",
    "    ax.text(.34,-0.13, \"CCDF \" + name, transform=ax.transAxes)\n",
    "    ax.set_yscale('log')\n",
    "    ax.set_xscale('log')\n",
    "    ax.grid()\n",
    "    \n",
    "savefig('ccdf.png')   "
   ]
  },
  {
   "cell_type": "code",
   "execution_count": 326,
   "metadata": {},
   "outputs": [
    {
     "name": "stdout",
     "output_type": "stream",
     "text": [
      "avg degrees:  14.84\n"
     ]
    }
   ],
   "source": [
    "all_degrees = []\n",
    "for node in G.nodes():\n",
    "    d = G.degree(node)\n",
    "    all_degrees.append(d)\n",
    "\n",
    "print(\"avg degrees: \", round(sum(all_degrees)/len(all_degrees), 2))"
   ]
  },
  {
   "cell_type": "code",
   "execution_count": 339,
   "metadata": {},
   "outputs": [],
   "source": [
    "geo_social = []\n",
    "for node in venue_nodes:\n",
    "    deg = get_degrees(G, node, \"social\")\n",
    "    geo_social.append(deg)"
   ]
  },
  {
   "cell_type": "code",
   "execution_count": 341,
   "metadata": {},
   "outputs": [],
   "source": [
    "for node in user_nodes:\n",
    "    deg = get_degrees(G, node, \"place\")\n",
    "    geo_social.append(deg)"
   ]
  },
  {
   "cell_type": "code",
   "execution_count": null,
   "metadata": {},
   "outputs": [],
   "source": []
  },
  {
   "cell_type": "code",
   "execution_count": null,
   "metadata": {},
   "outputs": [],
   "source": []
  },
  {
   "cell_type": "code",
   "execution_count": null,
   "metadata": {},
   "outputs": [],
   "source": []
  },
  {
   "cell_type": "code",
   "execution_count": null,
   "metadata": {},
   "outputs": [],
   "source": []
  },
  {
   "cell_type": "code",
   "execution_count": null,
   "metadata": {},
   "outputs": [],
   "source": []
  },
  {
   "cell_type": "code",
   "execution_count": null,
   "metadata": {},
   "outputs": [],
   "source": []
  },
  {
   "cell_type": "code",
   "execution_count": null,
   "metadata": {},
   "outputs": [],
   "source": []
  },
  {
   "cell_type": "code",
   "execution_count": null,
   "metadata": {},
   "outputs": [],
   "source": []
  },
  {
   "cell_type": "code",
   "execution_count": null,
   "metadata": {},
   "outputs": [],
   "source": []
  },
  {
   "cell_type": "code",
   "execution_count": null,
   "metadata": {},
   "outputs": [],
   "source": []
  }
 ],
 "metadata": {
  "kernelspec": {
   "display_name": "Python 3",
   "language": "python",
   "name": "python3"
  },
  "language_info": {
   "codemirror_mode": {
    "name": "ipython",
    "version": 3
   },
   "file_extension": ".py",
   "mimetype": "text/x-python",
   "name": "python",
   "nbconvert_exporter": "python",
   "pygments_lexer": "ipython3",
   "version": "3.6.4"
  }
 },
 "nbformat": 4,
 "nbformat_minor": 2
}
